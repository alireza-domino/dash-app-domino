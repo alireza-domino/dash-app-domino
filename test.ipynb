{
 "cells": [
  {
   "cell_type": "code",
   "execution_count": 1,
   "metadata": {},
   "outputs": [
    {
     "name": "stdout",
     "output_type": "stream",
     "text": [
      "/alireza_mounesisohi/test-dash-app/r/notebookSession/622b9741036f283ff8c9b773/\n",
      " * Serving Flask app \"__main__\" (lazy loading)\n",
      " * Environment: production\n",
      "   WARNING: Do not use the development server in a production environment.\n",
      "   Use a production WSGI server instead.\n",
      " * Debug mode: on\n"
     ]
    },
    {
     "name": "stderr",
     "output_type": "stream",
     "text": [
      " * Running on http://0.0.0.0:8887/ (Press CTRL+C to quit)\n",
      " * Restarting with inotify reloader\n"
     ]
    },
    {
     "ename": "SystemExit",
     "evalue": "1",
     "output_type": "error",
     "traceback": [
      "An exception has occurred, use %tb to see the full traceback.\n",
      "\u001b[0;31mSystemExit\u001b[0m\u001b[0;31m:\u001b[0m 1\n"
     ]
    },
    {
     "name": "stderr",
     "output_type": "stream",
     "text": [
      "/opt/conda/lib/python3.6/site-packages/IPython/core/interactiveshell.py:3339: UserWarning:\n",
      "\n",
      "To exit: use 'exit', 'quit', or Ctrl-D.\n",
      "\n"
     ]
    }
   ],
   "source": [
    "import dash\n",
    "import dash_core_components as dcc\n",
    "import dash_html_components as html\n",
    "import pandas as pd\n",
    "import plotly.graph_objs as go\n",
    "import os\n",
    "\n",
    "df = pd.read_csv(\n",
    "    'https://raw.githubusercontent.com/plotly/'\n",
    "    'datasets/master/gapminderDataFiveYear.csv')\n",
    "\n",
    "app = dash.Dash()\n",
    "\n",
    "# Configure Dash to recognize the URL of the container\n",
    "user = os.environ.get(\"DOMINO_PROJECT_OWNER\")\n",
    "project = os.environ.get(\"DOMINO_PROJECT_NAME\")\n",
    "portID = '8887' #  # string port id                                                ##### <-------------be adde\n",
    "runid = os.environ.get(\"DOMINO_RUN_ID\")\n",
    "runurl = '/' + user + '/' + project + '/r/notebookSession/'+ runid + '/'\n",
    "\n",
    "print(runurl)\n",
    "## To publish the app using domino app feature. This feature expects portID: '8888' ##### <-------------be removed\n",
    "#app.config.update({                                                                ##### <-------------be removed\n",
    "#'routes_pathname_prefix': runurl,                                                  ##### <-------------be removed\n",
    "#'requests_pathname_prefix': runurl                                                 ##### <-------------be removed\n",
    "#})                                                                                 ##### <-------------be removed\n",
    "################################################################                                ##### <-------------be added\n",
    "# Configure path for dependencies. This is required for Domino.                                 ##### <-------------be added\n",
    "#Learn more about Dash on Domino https://blog.dominodatalab.com/building-domino-web-app-dash/   ##### <-------------be added\n",
    "app.config.routes_pathname_prefix=''+portID+'/'                                                   ##### <-------------be added\n",
    "app.config.requests_pathname_prefix=''+portID+'/'                                                 ##### <-------------be added\n",
    "#################################################################                               ##### <-------------be added\n",
    "\n",
    "# Set layout\n",
    "app.layout = html.Div(style={'paddingLeft': '40px', 'paddingRight': '40px'}, children=[\n",
    "    dcc.Graph(id='graph-with-slider'),\n",
    "    dcc.Slider(\n",
    "        id='year-slider',\n",
    "        min=df['year'].min(),\n",
    "        max=df['year'].max(),\n",
    "        value=df['year'].min(),\n",
    "        step=None,\n",
    "        marks={str(year): str(year) for year in df['year'].unique()}\n",
    "    )\n",
    "])\n",
    "\n",
    "\n",
    "@app.callback(\n",
    "    dash.dependencies.Output('graph-with-slider', 'figure'),\n",
    "    [dash.dependencies.Input('year-slider', 'value')])\n",
    "def update_figure(selected_year):\n",
    "    filtered_df = df[df.year == selected_year]\n",
    "    traces = []\n",
    "    for i in filtered_df.continent.unique():\n",
    "        df_by_continent = filtered_df[filtered_df['continent'] == i]\n",
    "        traces.append(go.Scatter(\n",
    "            x=df_by_continent['gdpPercap'],\n",
    "            y=df_by_continent['lifeExp'],\n",
    "            text=df_by_continent['country'],\n",
    "            mode='markers',\n",
    "            opacity=0.7,\n",
    "            marker={\n",
    "                'size': 15,\n",
    "                'line': {'width': 0.5, 'color': 'white'}\n",
    "            },\n",
    "            name=i\n",
    "        ))\n",
    "\n",
    "    return {\n",
    "        'data': traces,\n",
    "        'layout': go.Layout(\n",
    "            xaxis={'type': 'log', 'title': 'GDP Per Capita'},\n",
    "            yaxis={'title': 'Life Expectancy', 'range': [20, 90]},\n",
    "            margin={'l': 40, 'b': 40, 't': 10, 'r': 10},\n",
    "            legend={'x': 0, 'y': 1},\n",
    "            hovermode='closest'\n",
    "        )\n",
    "    }\n",
    "\n",
    "\n",
    "if __name__ == '__main__':\n",
    "    app.run_server(port=int(portID), host='0.0.0.0', debug=True)"
   ]
  },
  {
   "cell_type": "code",
   "execution_count": null,
   "metadata": {},
   "outputs": [],
   "source": []
  }
 ],
 "metadata": {
  "kernelspec": {
   "display_name": "Python 3",
   "language": "python",
   "name": "python3"
  },
  "language_info": {
   "codemirror_mode": {
    "name": "ipython",
    "version": 3
   },
   "file_extension": ".py",
   "mimetype": "text/x-python",
   "name": "python",
   "nbconvert_exporter": "python",
   "pygments_lexer": "ipython3",
   "version": "3.6.10"
  }
 },
 "nbformat": 4,
 "nbformat_minor": 4
}
