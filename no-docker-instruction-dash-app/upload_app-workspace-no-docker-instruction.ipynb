{
 "cells": [
  {
   "cell_type": "code",
   "execution_count": 1,
   "metadata": {},
   "outputs": [
    {
     "name": "stdout",
     "output_type": "stream",
     "text": [
      "\u001b[33mWARNING: The directory '/home/ubuntu/.cache/pip' or its parent directory is not owned or is not writable by the current user. The cache has been disabled. Check the permissions and owner of that directory. If executing pip with sudo, you should use sudo's -H flag.\u001b[0m\n",
      "Collecting dash==0.21.0\n",
      "  Downloading dash-0.21.0.tar.gz (15 kB)\n",
      "  Preparing metadata (setup.py) ... \u001b[?25lerror\n",
      "\u001b[31m  ERROR: Command errored out with exit status 1:\n",
      "   command: /usr/bin/python3 -c 'import io, os, sys, setuptools, tokenize; sys.argv[0] = '\"'\"'/tmp/pip-install-k80n_905/dash_2e75d69353584fe2a79fd2289697f2da/setup.py'\"'\"'; __file__='\"'\"'/tmp/pip-install-k80n_905/dash_2e75d69353584fe2a79fd2289697f2da/setup.py'\"'\"';f = getattr(tokenize, '\"'\"'open'\"'\"', open)(__file__) if os.path.exists(__file__) else io.StringIO('\"'\"'from setuptools import setup; setup()'\"'\"');code = f.read().replace('\"'\"'\\r\\n'\"'\"', '\"'\"'\\n'\"'\"');f.close();exec(compile(code, __file__, '\"'\"'exec'\"'\"'))' egg_info --egg-base /tmp/pip-pip-egg-info-ytiva6m5\n",
      "       cwd: /tmp/pip-install-k80n_905/dash_2e75d69353584fe2a79fd2289697f2da/\n",
      "  Complete output (3 lines):\n",
      "  Traceback (most recent call last):\n",
      "    File \"<string>\", line 1, in <module>\n",
      "  ModuleNotFoundError: No module named 'setuptools'\n",
      "  ----------------------------------------\u001b[0m\n",
      "\u001b[33mWARNING: Discarding https://files.pythonhosted.org/packages/5d/de/455e474215348d6369196ba5b36c5987f24ed311a1b88c1840c27f8044cb/dash-0.21.0.tar.gz#sha256=242ff9e11fb02f1891538368a27b5bf5549522b0f2f4fa066227ad32d723ca70 (from https://pypi.org/simple/dash/). Command errored out with exit status 1: python setup.py egg_info Check the logs for full command output.\u001b[0m\n",
      "\u001b[31mERROR: Could not find a version that satisfies the requirement dash==0.21.0 (from versions: 0.17.4, 0.17.5, 0.17.7, 0.17.8rc1, 0.17.8rc2, 0.17.8rc3, 0.18.0, 0.18.1, 0.18.2, 0.18.3rc1, 0.18.3, 0.19.0, 0.20.0, 0.21.0, 0.21.1, 0.22.0rc1, 0.22.0rc2, 0.22.0, 0.23.1, 0.24.0, 0.24.1rc1, 0.24.1, 0.24.2, 0.25.0, 0.25.1, 0.26.0, 0.26.1rc1, 0.26.1rc2, 0.26.1rc3, 0.26.1, 0.26.2, 0.26.3, 0.26.4, 0.26.5, 0.26.6, 0.27.0rc1, 0.27.0rc2, 0.27.0rc3, 0.27.0rc4, 0.27.0rc5, 0.27.0rc6, 0.27.0rc7, 0.27.0rc8, 0.27.0rc9, 0.27.0, 0.28.0, 0.28.1, 0.28.2, 0.28.3, 0.28.4, 0.28.5, 0.28.6, 0.28.7, 0.29.0rc1, 0.29.0rc2, 0.29.0rc3, 0.29.0rc4, 0.29.0rc5, 0.29.0rc6, 0.29rc7, 0.29.0rc8, 0.29.0, 0.30.0rc1, 0.30.0rc2, 0.30.0rc3, 0.30.0rc4, 0.30.0rc5, 0.30.0, 0.31.0rc1, 0.31.0rc2, 0.31.0, 0.31.1, 0.32.0rc1, 0.32.0rc2, 0.32.0, 0.32.1, 0.32.2, 0.34.0, 0.35.0rc1, 0.35.0, 0.35.1, 0.35.2, 0.35.3, 0.36.0rc1, 0.36.0, 0.37.0rc1, 0.37.0rc2, 0.37.0, 0.38.0rc1, 0.38.0, 0.39.0, 0.40.0rc1, 0.40.0, 0.41.0, 0.42.0, 0.43.0rc1, 0.43.0rc2, 0.43.0rc3, 0.43.0, 1.0.0a1, 1.0.0, 1.0.1rc1, 1.0.1, 1.0.2, 1.1.0, 1.1.1, 1.2.0, 1.3.0, 1.3.1, 1.4.0, 1.4.1, 1.5.0, 1.5.1, 1.6.0, 1.6.1, 1.7.0, 1.8.0, 1.9.0, 1.9.1, 1.10.0, 1.11.0, 1.12.0, 1.13.0, 1.13.1, 1.13.2, 1.13.3, 1.13.4, 1.14.0, 1.15.0, 1.16.0, 1.16.1, 1.16.2, 1.16.3, 1.17.0, 1.18.0, 1.18.1, 1.19.0, 1.20.0, 1.21.0, 2.0.0rc1, 2.0.0rc2, 2.0.0rc3, 2.0.0, 2.1.0, 2.2.0)\u001b[0m\n",
      "\u001b[31mERROR: No matching distribution found for dash==0.21.0\u001b[0m\n",
      "\u001b[?25h"
     ]
    }
   ],
   "source": [
    "!sudo pip install dash==0.21.0 \\\n",
    "                  dash-core-components==0.21.1\\\n",
    "                  dash-html-components==0.9.0\\\n",
    "                  dash-renderer==0.12.1\\\n",
    "                  dash-table-experiments==0.6.0"
   ]
  },
  {
   "cell_type": "code",
   "execution_count": 2,
   "metadata": {},
   "outputs": [
    {
     "ename": "ModuleNotFoundError",
     "evalue": "No module named 'dash'",
     "output_type": "error",
     "traceback": [
      "\u001b[0;31m---------------------------------------------------------------------------\u001b[0m",
      "\u001b[0;31mModuleNotFoundError\u001b[0m                       Traceback (most recent call last)",
      "\u001b[0;32m/tmp/ipykernel_360/3594644922.py\u001b[0m in \u001b[0;36m<module>\u001b[0;34m\u001b[0m\n\u001b[1;32m      4\u001b[0m \u001b[0;34m\u001b[0m\u001b[0m\n\u001b[1;32m      5\u001b[0m \u001b[0;32mfrom\u001b[0m \u001b[0mflask\u001b[0m \u001b[0;32mimport\u001b[0m \u001b[0mFlask\u001b[0m\u001b[0;34m,\u001b[0m \u001b[0msend_from_directory\u001b[0m\u001b[0;34m\u001b[0m\u001b[0;34m\u001b[0m\u001b[0m\n\u001b[0;32m----> 6\u001b[0;31m \u001b[0;32mimport\u001b[0m \u001b[0mdash\u001b[0m\u001b[0;34m\u001b[0m\u001b[0;34m\u001b[0m\u001b[0m\n\u001b[0m\u001b[1;32m      7\u001b[0m \u001b[0;32mimport\u001b[0m \u001b[0mdash_core_components\u001b[0m \u001b[0;32mas\u001b[0m \u001b[0mdcc\u001b[0m\u001b[0;34m\u001b[0m\u001b[0;34m\u001b[0m\u001b[0m\n\u001b[1;32m      8\u001b[0m \u001b[0;32mimport\u001b[0m \u001b[0mdash_html_components\u001b[0m \u001b[0;32mas\u001b[0m \u001b[0mhtml\u001b[0m\u001b[0;34m\u001b[0m\u001b[0;34m\u001b[0m\u001b[0m\n",
      "\u001b[0;31mModuleNotFoundError\u001b[0m: No module named 'dash'"
     ]
    }
   ],
   "source": [
    "import base64\n",
    "import os\n",
    "from urllib.parse import quote as urlquote\n",
    "\n",
    "from flask import Flask, send_from_directory\n",
    "import dash\n",
    "import dash_core_components as dcc\n",
    "import dash_html_components as html\n",
    "from dash.dependencies import Input, Output"
   ]
  },
  {
   "cell_type": "code",
   "execution_count": 3,
   "metadata": {},
   "outputs": [],
   "source": [
    "UPLOAD_DIRECTORY = \"./project/app_uploaded_files\"\n",
    "\n",
    "if not os.path.exists(UPLOAD_DIRECTORY):\n",
    "    os.makedirs(UPLOAD_DIRECTORY)"
   ]
  },
  {
   "cell_type": "code",
   "execution_count": 4,
   "metadata": {},
   "outputs": [
    {
     "name": "stdout",
     "output_type": "stream",
     "text": [
      "'Screen Shot 2022-03-08 at 2.03.17 PM.png'\n",
      "'Screen Shot 2022-03-08 at 2.06.50 PM.png'\n"
     ]
    }
   ],
   "source": [
    "ls {UPLOAD_DIRECTORY}"
   ]
  },
  {
   "cell_type": "code",
   "execution_count": 5,
   "metadata": {},
   "outputs": [
    {
     "name": "stdout",
     "output_type": "stream",
     "text": [
      "<Domino url>alireza_mounesisohi/file_upload_test/notebookSession/622859d4036f283ff8c9abfd/proxy/8882\n"
     ]
    }
   ],
   "source": [
    "#server = Flask(__name__)\n",
    "#app = dash.Dash(server=server)\n",
    "\n",
    "portID = '8882'\n",
    "runID = os.environ['DOMINO_RUN_ID']\n",
    "user = os.environ['DOMINO_PROJECT_OWNER']\n",
    "project = os.environ['DOMINO_PROJECT_NAME']\n",
    "\n",
    "app_path = '<Domino url>'+ user + '/' + project +'/notebookSession/' + runID + '/proxy/' + portID\n",
    "assets_path = app_path + '/assets/'\n",
    "print(app_path)\n",
    "\n",
    "#set the external path to the assets folder\n",
    "app = dash.Dash(assets_external_path = assets_path)\n",
    "#app = dash.Dash()\n",
    "\n",
    "app.scripts.config.serve_locally = True\n",
    "app.css.config.serve_locally = True    \n",
    "app = dash.Dash()\n",
    " \n",
    "app.scripts.config.serve_locally = True\n",
    "# app.css.config.serve_locally = True\n",
    " \n",
    "################################################################\n",
    "# Configure path for dependencies. This is required for Domino.\n",
    "#Learn more about Dash on Domino https://blog.dominodatalab.com/building-domino-web-app-dash/\n",
    "app.config.routes_pathname_prefix=''+portID+'/'\n",
    "app.config.requests_pathname_prefix=''+portID+'/'\n",
    "#################################################################\n"
   ]
  },
  {
   "cell_type": "code",
   "execution_count": 6,
   "metadata": {},
   "outputs": [],
   "source": [
    "def download(path):\n",
    "    \"\"\"Serve a file from the upload directory.\"\"\"\n",
    "    return send_from_directory(UPLOAD_DIRECTORY, path, as_attachment=True)\n",
    "\n",
    "\n",
    "app.layout = html.Div(\n",
    "    [\n",
    "        html.H1(\"File Browser\"),\n",
    "        html.H2(\"Upload\"),\n",
    "        dcc.Upload(\n",
    "            id=\"upload-data\",\n",
    "            children=html.Div(\n",
    "                [\"Drag and drop or click to select a file to upload.\"]\n",
    "            ),\n",
    "            style={\n",
    "                \"width\": \"100%\",\n",
    "                \"height\": \"60px\",\n",
    "                \"lineHeight\": \"60px\",\n",
    "                \"borderWidth\": \"1px\",\n",
    "                \"borderStyle\": \"dashed\",\n",
    "                \"borderRadius\": \"5px\",\n",
    "                \"textAlign\": \"center\",\n",
    "                \"margin\": \"10px\",\n",
    "            },\n",
    "            multiple=True,\n",
    "        ),\n",
    "        html.H2(\"File List\"),\n",
    "        html.Ul(id=\"file-list\"),\n",
    "    ],\n",
    "    style={\"max-width\": \"500px\"},\n",
    ")\n",
    "\n",
    "\n",
    "def save_file(name, content):\n",
    "    \"\"\"Decode and store a file uploaded with Plotly Dash.\"\"\"\n",
    "    data = content.encode(\"utf8\").split(b\";base64,\")[1]\n",
    "    with open(os.path.join(UPLOAD_DIRECTORY, name), \"wb\") as fp:\n",
    "        fp.write(base64.decodebytes(data))\n",
    "\n",
    "\n",
    "def uploaded_files():\n",
    "    \"\"\"List the files in the upload directory.\"\"\"\n",
    "    files = []\n",
    "    for filename in os.listdir(UPLOAD_DIRECTORY):\n",
    "        path = os.path.join(UPLOAD_DIRECTORY, filename)\n",
    "        if os.path.isfile(path):\n",
    "            files.append(filename)\n",
    "    return files\n",
    "\n",
    "\n",
    "def file_download_link(filename):\n",
    "    \"\"\"Create a Plotly Dash 'A' element that downloads a file from the app.\"\"\"\n",
    "    location = \"./\" #download/{}\".format(urlquote(filename))\n",
    "    return html.A(filename, href=location)\n"
   ]
  },
  {
   "cell_type": "code",
   "execution_count": 7,
   "metadata": {},
   "outputs": [],
   "source": [
    "@app.callback(\n",
    "    Output(\"file-list\", \"children\"),\n",
    "    [Input(\"upload-data\", \"filename\"), Input(\"upload-data\", \"contents\")],\n",
    ")\n",
    "\n",
    "def update_output(uploaded_filenames, uploaded_file_contents):\n",
    "    \"\"\"Save uploaded files and regenerate the file list.\"\"\"\n",
    "\n",
    "    if uploaded_filenames is not None and uploaded_file_contents is not None:\n",
    "        for name, data in zip(uploaded_filenames, uploaded_file_contents):\n",
    "            save_file(name, data)\n",
    "\n",
    "    files = uploaded_files()\n",
    "    \n",
    "    if len(files) == 0:\n",
    "        return [html.Li(\"No files yet!\")]\n",
    "    else:\n",
    "        return [html.Li(file_download_link(filename)) for filename in files]"
   ]
  },
  {
   "cell_type": "code",
   "execution_count": 8,
   "metadata": {},
   "outputs": [
    {
     "name": "stdout",
     "output_type": "stream",
     "text": [
      " * Serving Flask app \"dash\" (lazy loading)\n",
      " * Environment: production\n",
      "   WARNING: Do not use the development server in a production environment.\n",
      "   Use a production WSGI server instead.\n",
      " * Debug mode: off\n"
     ]
    },
    {
     "name": "stderr",
     "output_type": "stream",
     "text": [
      " * Running on http://0.0.0.0:8882/ (Press CTRL+C to quit)\n",
      "127.0.0.1 - - [09/Mar/2022 07:42:56] \"\u001b[37mGET / HTTP/1.1\u001b[0m\" 200 -\n",
      "127.0.0.1 - - [09/Mar/2022 07:42:56] \"\u001b[37mGET /_dash-component-suites/dash_core_components/rc-slider@6.1.2.css?v=0.21.1 HTTP/1.1\u001b[0m\" 200 -\n",
      "127.0.0.1 - - [09/Mar/2022 07:42:56] \"\u001b[37mGET /_dash-component-suites/dash_renderer/react-dom@15.4.2.min.js?v=0.12.1 HTTP/1.1\u001b[0m\" 200 -\n",
      "127.0.0.1 - - [09/Mar/2022 07:42:56] \"\u001b[37mGET /_dash-component-suites/dash_core_components/react-virtualized@9.9.0.css?v=0.21.1 HTTP/1.1\u001b[0m\" 200 -\n",
      "127.0.0.1 - - [09/Mar/2022 07:42:56] \"\u001b[37mGET /_dash-component-suites/dash_core_components/react-dates@12.3.0.css?v=0.21.1 HTTP/1.1\u001b[0m\" 200 -\n",
      "127.0.0.1 - - [09/Mar/2022 07:42:56] \"\u001b[37mGET /_dash-component-suites/dash_core_components/react-virtualized-select@3.1.0.css?v=0.21.1 HTTP/1.1\u001b[0m\" 200 -\n",
      "127.0.0.1 - - [09/Mar/2022 07:42:56] \"\u001b[37mGET /_dash-component-suites/dash_renderer/react@15.4.2.min.js?v=0.12.1 HTTP/1.1\u001b[0m\" 200 -\n",
      "127.0.0.1 - - [09/Mar/2022 07:42:56] \"\u001b[37mGET /_dash-component-suites/dash_core_components/react-select@1.0.0-rc.3.min.css?v=0.21.1 HTTP/1.1\u001b[0m\" 200 -\n",
      "127.0.0.1 - - [09/Mar/2022 07:42:56] \"\u001b[37mGET /_dash-component-suites/dash_html_components/bundle.js?v=0.9.0 HTTP/1.1\u001b[0m\" 200 -\n",
      "127.0.0.1 - - [09/Mar/2022 07:42:56] \"\u001b[37mGET /_dash-component-suites/dash_core_components/plotly-1.35.2.min.js?v=0.21.1 HTTP/1.1\u001b[0m\" 200 -\n",
      "127.0.0.1 - - [09/Mar/2022 07:42:56] \"\u001b[37mGET /_dash-component-suites/dash_core_components/bundle.js?v=0.21.1 HTTP/1.1\u001b[0m\" 200 -\n",
      "127.0.0.1 - - [09/Mar/2022 07:42:56] \"\u001b[37mGET /_dash-component-suites/dash_renderer/bundle.js?v=0.12.1 HTTP/1.1\u001b[0m\" 200 -\n",
      "127.0.0.1 - - [09/Mar/2022 07:42:58] \"\u001b[37mGET /_dash-layout HTTP/1.1\u001b[0m\" 200 -\n",
      "127.0.0.1 - - [09/Mar/2022 07:42:58] \"\u001b[37mGET /_dash-dependencies HTTP/1.1\u001b[0m\" 200 -\n",
      "127.0.0.1 - - [09/Mar/2022 07:42:58] \"\u001b[37mPOST /_dash-update-component HTTP/1.1\u001b[0m\" 200 -\n"
     ]
    }
   ],
   "source": [
    "if __name__ == '__main__':\n",
    "    app.run_server(host='0.0.0.0',port=int(portID)) # Domino hosts all apps at 0.0.0.0:8888"
   ]
  },
  {
   "cell_type": "code",
   "execution_count": null,
   "metadata": {},
   "outputs": [],
   "source": []
  }
 ],
 "metadata": {
  "kernelspec": {
   "display_name": "Python 3 (ipykernel)",
   "language": "python",
   "name": "python3"
  },
  "language_info": {
   "codemirror_mode": {
    "name": "ipython",
    "version": 3
   },
   "file_extension": ".py",
   "mimetype": "text/x-python",
   "name": "python",
   "nbconvert_exporter": "python",
   "pygments_lexer": "ipython3",
   "version": "3.8.12"
  }
 },
 "nbformat": 4,
 "nbformat_minor": 4
}
