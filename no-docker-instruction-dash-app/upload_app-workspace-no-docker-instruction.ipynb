{
 "cells": [
  {
   "cell_type": "code",
   "execution_count": 2,
   "metadata": {},
   "outputs": [
    {
     "name": "stdout",
     "output_type": "stream",
     "text": [
      "Collecting dash==0.21.0\n",
      "  Downloading dash-0.21.0.tar.gz (15 kB)\n",
      "Collecting dash-core-components==0.21.1\n",
      "  Downloading dash_core_components-0.21.1.tar.gz (1.9 MB)\n",
      "\u001b[K     |████████████████████████████████| 1.9 MB 6.3 MB/s eta 0:00:01\n",
      "\u001b[?25hCollecting dash-html-components==0.9.0\n",
      "  Downloading dash_html_components-0.9.0.tar.gz (45 kB)\n",
      "\u001b[K     |████████████████████████████████| 45 kB 8.8 MB/s  eta 0:00:01\n",
      "\u001b[?25hCollecting dash-renderer==0.12.1\n",
      "  Downloading dash_renderer-0.12.1.tar.gz (160 kB)\n",
      "\u001b[K     |████████████████████████████████| 160 kB 105.7 MB/s eta 0:00:01\n",
      "\u001b[?25hCollecting dash-table-experiments==0.6.0\n",
      "  Downloading dash_table_experiments-0.6.0.tar.gz (738 kB)\n",
      "\u001b[K     |████████████████████████████████| 738 kB 101.9 MB/s eta 0:00:01\n",
      "\u001b[?25hRequirement already satisfied: Flask>=0.12 in /opt/conda/lib/python3.8/site-packages (from dash==0.21.0) (2.0.2)\n",
      "Requirement already satisfied: flask-compress in /opt/conda/lib/python3.8/site-packages (from dash==0.21.0) (1.10.1)\n",
      "Requirement already satisfied: plotly in /opt/conda/lib/python3.8/site-packages (from dash==0.21.0) (5.6.0)\n",
      "Requirement already satisfied: itsdangerous>=2.0 in /opt/conda/lib/python3.8/site-packages (from Flask>=0.12->dash==0.21.0) (2.0.1)\n",
      "Requirement already satisfied: Jinja2>=3.0 in /home/ubuntu/.local/lib/python3.8/site-packages (from Flask>=0.12->dash==0.21.0) (3.0.3)\n",
      "Requirement already satisfied: click>=7.1.2 in /opt/conda/lib/python3.8/site-packages (from Flask>=0.12->dash==0.21.0) (8.0.3)\n",
      "Requirement already satisfied: Werkzeug>=2.0 in /opt/conda/lib/python3.8/site-packages (from Flask>=0.12->dash==0.21.0) (2.0.2)\n",
      "Requirement already satisfied: MarkupSafe>=2.0 in /home/ubuntu/.local/lib/python3.8/site-packages (from Jinja2>=3.0->Flask>=0.12->dash==0.21.0) (2.0.1)\n",
      "Requirement already satisfied: brotli in /opt/conda/lib/python3.8/site-packages (from flask-compress->dash==0.21.0) (1.0.9)\n",
      "Requirement already satisfied: six in /opt/conda/lib/python3.8/site-packages (from plotly->dash==0.21.0) (1.16.0)\n",
      "Requirement already satisfied: tenacity>=6.2.0 in /opt/conda/lib/python3.8/site-packages (from plotly->dash==0.21.0) (8.0.1)\n",
      "Building wheels for collected packages: dash, dash-core-components, dash-html-components, dash-renderer, dash-table-experiments\n",
      "  Building wheel for dash (setup.py) ... \u001b[?25ldone\n",
      "\u001b[?25h  Created wheel for dash: filename=dash-0.21.0-py3-none-any.whl size=17580 sha256=910ca363d8e20d108cdcbbaa47624d2cd205ea5e170657c343d4948c9914c668\n",
      "  Stored in directory: /home/ubuntu/.cache/pip/wheels/37/ef/ce/528b4b67cfd171393e64a2fdd699c864bc2a3d314ad2b01078\n",
      "  Building wheel for dash-core-components (setup.py) ... \u001b[?25ldone\n",
      "\u001b[?25h  Created wheel for dash-core-components: filename=dash_core_components-0.21.1-py3-none-any.whl size=1962667 sha256=4b1920cb4313d85e2f32fd2d8751098c0214af97fceade4a07e7bec3435e1c2e\n",
      "  Stored in directory: /home/ubuntu/.cache/pip/wheels/00/2d/df/e3983230f771a77b6c22cb8388df93529314076ec56eec5bd8\n",
      "  Building wheel for dash-html-components (setup.py) ... \u001b[?25ldone\n",
      "\u001b[?25h  Created wheel for dash-html-components: filename=dash_html_components-0.9.0-py3-none-any.whl size=47431 sha256=32b63bbad359bd769b10adbbdab051ef55b2475a89d67fd7d4971e11f7519087\n",
      "  Stored in directory: /home/ubuntu/.cache/pip/wheels/4f/78/87/b183b29b5d38afb628ab84eab802f7849d145b0adbfacfeca1\n",
      "  Building wheel for dash-renderer (setup.py) ... \u001b[?25ldone\n",
      "\u001b[?25h  Created wheel for dash-renderer: filename=dash_renderer-0.12.1-py3-none-any.whl size=164330 sha256=0e286488cabac9f8e2e387ba2c2b8dcae5cfd12e654024a25a4f42238bd0f616\n",
      "  Stored in directory: /home/ubuntu/.cache/pip/wheels/b4/ce/77/aaa7106035ae72da32a300df3e2a552d094bc01cb6a53a81ec\n",
      "  Building wheel for dash-table-experiments (setup.py) ... \u001b[?25ldone\n",
      "\u001b[?25h  Created wheel for dash-table-experiments: filename=dash_table_experiments-0.6.0-py3-none-any.whl size=746778 sha256=084b1eaa9024ca8a6067d7b1b44f277007a3aec0c8d4667a73f45aa25b0c7144\n",
      "  Stored in directory: /home/ubuntu/.cache/pip/wheels/96/23/2f/d0c993e7d8c91d1d9076c4a497a1c9270e1237f1af4162feaa\n",
      "Successfully built dash dash-core-components dash-html-components dash-renderer dash-table-experiments\n",
      "Installing collected packages: dash, dash-table-experiments, dash-renderer, dash-html-components, dash-core-components\n",
      "  Attempting uninstall: dash\n",
      "    Found existing installation: dash 0.22.0\n",
      "    Uninstalling dash-0.22.0:\n",
      "\u001b[31mERROR: Could not install packages due to an OSError: [Errno 13] Permission denied: 'INSTALLER'\n",
      "Consider using the `--user` option or check the permissions.\n",
      "\u001b[0m\n"
     ]
    }
   ],
   "source": [
    "!pip install dash==0.21.0 \\\n",
    "                  dash-core-components==0.21.1\\\n",
    "                  dash-html-components==0.9.0\\\n",
    "                  dash-renderer==0.12.1\\\n",
    "                  dash-table-experiments==0.6.0"
   ]
  },
  {
   "cell_type": "code",
   "execution_count": 3,
   "metadata": {},
   "outputs": [],
   "source": [
    "import base64\n",
    "import os\n",
    "from urllib.parse import quote as urlquote\n",
    "\n",
    "from flask import Flask, send_from_directory\n",
    "import dash\n",
    "import dash_core_components as dcc\n",
    "import dash_html_components as html\n",
    "from dash.dependencies import Input, Output"
   ]
  },
  {
   "cell_type": "code",
   "execution_count": 4,
   "metadata": {},
   "outputs": [],
   "source": [
    "UPLOAD_DIRECTORY = \"./project/app_uploaded_files\"\n",
    "\n",
    "if not os.path.exists(UPLOAD_DIRECTORY):\n",
    "    os.makedirs(UPLOAD_DIRECTORY)"
   ]
  },
  {
   "cell_type": "code",
   "execution_count": 5,
   "metadata": {},
   "outputs": [],
   "source": [
    "ls {UPLOAD_DIRECTORY}"
   ]
  },
  {
   "cell_type": "code",
   "execution_count": 6,
   "metadata": {},
   "outputs": [
    {
     "name": "stdout",
     "output_type": "stream",
     "text": [
      "<Domino url>ddl-alireza/test-app/notebookSession/622bb2ce4b34ac6710742644/proxy/8882\n"
     ]
    }
   ],
   "source": [
    "#server = Flask(__name__)\n",
    "#app = dash.Dash(server=server)\n",
    "\n",
    "portID = '8882'\n",
    "runID = os.environ['DOMINO_RUN_ID']\n",
    "user = os.environ['DOMINO_PROJECT_OWNER']\n",
    "project = os.environ['DOMINO_PROJECT_NAME']\n",
    "\n",
    "app_path = '<Domino url>'+ user + '/' + project +'/notebookSession/' + runID + '/proxy/' + portID\n",
    "assets_path = app_path + '/assets/'\n",
    "print(app_path)\n",
    "\n",
    "#set the external path to the assets folder\n",
    "app = dash.Dash(assets_external_path = assets_path)\n",
    "#app = dash.Dash()\n",
    "\n",
    "app.scripts.config.serve_locally = True\n",
    "app.css.config.serve_locally = True    \n",
    "app = dash.Dash()\n",
    " \n",
    "app.scripts.config.serve_locally = True\n",
    "# app.css.config.serve_locally = True\n",
    " \n",
    "################################################################\n",
    "# Configure path for dependencies. This is required for Domino.\n",
    "#Learn more about Dash on Domino https://blog.dominodatalab.com/building-domino-web-app-dash/\n",
    "app.config.routes_pathname_prefix=''+portID+'/'\n",
    "app.config.requests_pathname_prefix=''+portID+'/'\n",
    "#################################################################\n"
   ]
  },
  {
   "cell_type": "code",
   "execution_count": 7,
   "metadata": {},
   "outputs": [],
   "source": [
    "def download(path):\n",
    "    \"\"\"Serve a file from the upload directory.\"\"\"\n",
    "    return send_from_directory(UPLOAD_DIRECTORY, path, as_attachment=True)\n",
    "\n",
    "\n",
    "app.layout = html.Div(\n",
    "    [\n",
    "        html.H1(\"File Browser\"),\n",
    "        html.H2(\"Upload\"),\n",
    "        dcc.Upload(\n",
    "            id=\"upload-data\",\n",
    "            children=html.Div(\n",
    "                [\"Drag and drop or click to select a file to upload.\"]\n",
    "            ),\n",
    "            style={\n",
    "                \"width\": \"100%\",\n",
    "                \"height\": \"60px\",\n",
    "                \"lineHeight\": \"60px\",\n",
    "                \"borderWidth\": \"1px\",\n",
    "                \"borderStyle\": \"dashed\",\n",
    "                \"borderRadius\": \"5px\",\n",
    "                \"textAlign\": \"center\",\n",
    "                \"margin\": \"10px\",\n",
    "            },\n",
    "            multiple=True,\n",
    "        ),\n",
    "        html.H2(\"File List\"),\n",
    "        html.Ul(id=\"file-list\"),\n",
    "    ],\n",
    "    style={\"max-width\": \"500px\"},\n",
    ")\n",
    "\n",
    "\n",
    "def save_file(name, content):\n",
    "    \"\"\"Decode and store a file uploaded with Plotly Dash.\"\"\"\n",
    "    data = content.encode(\"utf8\").split(b\";base64,\")[1]\n",
    "    with open(os.path.join(UPLOAD_DIRECTORY, name), \"wb\") as fp:\n",
    "        fp.write(base64.decodebytes(data))\n",
    "\n",
    "\n",
    "def uploaded_files():\n",
    "    \"\"\"List the files in the upload directory.\"\"\"\n",
    "    files = []\n",
    "    for filename in os.listdir(UPLOAD_DIRECTORY):\n",
    "        path = os.path.join(UPLOAD_DIRECTORY, filename)\n",
    "        if os.path.isfile(path):\n",
    "            files.append(filename)\n",
    "    return files\n",
    "\n",
    "\n",
    "def file_download_link(filename):\n",
    "    \"\"\"Create a Plotly Dash 'A' element that downloads a file from the app.\"\"\"\n",
    "    location = \"./\" #download/{}\".format(urlquote(filename))\n",
    "    return html.A(filename, href=location)\n"
   ]
  },
  {
   "cell_type": "code",
   "execution_count": 8,
   "metadata": {},
   "outputs": [],
   "source": [
    "@app.callback(\n",
    "    Output(\"file-list\", \"children\"),\n",
    "    [Input(\"upload-data\", \"filename\"), Input(\"upload-data\", \"contents\")],\n",
    ")\n",
    "\n",
    "def update_output(uploaded_filenames, uploaded_file_contents):\n",
    "    \"\"\"Save uploaded files and regenerate the file list.\"\"\"\n",
    "\n",
    "    if uploaded_filenames is not None and uploaded_file_contents is not None:\n",
    "        for name, data in zip(uploaded_filenames, uploaded_file_contents):\n",
    "            save_file(name, data)\n",
    "\n",
    "    files = uploaded_files()\n",
    "    \n",
    "    if len(files) == 0:\n",
    "        return [html.Li(\"No files yet!\")]\n",
    "    else:\n",
    "        return [html.Li(file_download_link(filename)) for filename in files]"
   ]
  },
  {
   "cell_type": "code",
   "execution_count": null,
   "metadata": {},
   "outputs": [
    {
     "name": "stdout",
     "output_type": "stream",
     "text": [
      " * Serving Flask app '__main__' (lazy loading)\n",
      " * Environment: production\n",
      "\u001b[31m   WARNING: This is a development server. Do not use it in a production deployment.\u001b[0m\n",
      "\u001b[2m   Use a production WSGI server instead.\u001b[0m\n",
      " * Debug mode: off\n"
     ]
    },
    {
     "name": "stderr",
     "output_type": "stream",
     "text": [
      " * Running on all addresses.\n",
      "   WARNING: This is a development server. Do not use it in a production deployment.\n",
      " * Running on http://10.0.40.19:8882/ (Press CTRL+C to quit)\n"
     ]
    }
   ],
   "source": [
    "if __name__ == '__main__':\n",
    "    app.run_server(host='0.0.0.0',port=int(portID)) # Domino hosts all apps at 0.0.0.0:8888"
   ]
  },
  {
   "cell_type": "code",
   "execution_count": null,
   "metadata": {},
   "outputs": [],
   "source": []
  }
 ],
 "metadata": {
  "kernelspec": {
   "display_name": "Python 3 (ipykernel)",
   "language": "python",
   "name": "python3"
  },
  "language_info": {
   "codemirror_mode": {
    "name": "ipython",
    "version": 3
   },
   "file_extension": ".py",
   "mimetype": "text/x-python",
   "name": "python",
   "nbconvert_exporter": "python",
   "pygments_lexer": "ipython3",
   "version": "3.8.12"
  }
 },
 "nbformat": 4,
 "nbformat_minor": 4
}
