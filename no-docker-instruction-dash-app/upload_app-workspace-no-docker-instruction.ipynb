{
 "cells": [
  {
   "cell_type": "code",
   "execution_count": 1,
   "metadata": {},
   "outputs": [
    {
     "name": "stdout",
     "output_type": "stream",
     "text": [
      "Collecting dash==0.21.0\n",
      "  Downloading dash-0.21.0.tar.gz (15 kB)\n",
      "Collecting dash-core-components==0.21.1\n",
      "  Downloading dash_core_components-0.21.1.tar.gz (1.9 MB)\n",
      "\u001b[K     |████████████████████████████████| 1.9 MB 9.0 MB/s eta 0:00:01\n",
      "\u001b[?25hCollecting dash-html-components==0.9.0\n",
      "  Downloading dash_html_components-0.9.0.tar.gz (45 kB)\n",
      "\u001b[K     |████████████████████████████████| 45 kB 8.2 MB/s  eta 0:00:01\n",
      "\u001b[?25hCollecting dash-renderer==0.12.1\n",
      "  Downloading dash_renderer-0.12.1.tar.gz (160 kB)\n",
      "\u001b[K     |████████████████████████████████| 160 kB 108.4 MB/s eta 0:00:01\n",
      "\u001b[?25hCollecting dash-table-experiments==0.6.0\n",
      "  Downloading dash_table_experiments-0.6.0.tar.gz (738 kB)\n",
      "\u001b[K     |████████████████████████████████| 738 kB 101.0 MB/s eta 0:00:01\n",
      "\u001b[?25hRequirement already satisfied: Flask>=0.12 in /opt/conda/lib/python3.8/site-packages (from dash==0.21.0) (2.0.1)\n",
      "Requirement already satisfied: flask-compress in /opt/conda/lib/python3.8/site-packages (from dash==0.21.0) (1.10.1)\n",
      "Requirement already satisfied: plotly in /opt/conda/lib/python3.8/site-packages (from dash==0.21.0) (5.1.0)\n",
      "Requirement already satisfied: Jinja2>=3.0 in /home/ubuntu/.local/lib/python3.8/site-packages (from Flask>=0.12->dash==0.21.0) (3.0.1)\n",
      "Requirement already satisfied: click>=7.1.2 in /opt/conda/lib/python3.8/site-packages (from Flask>=0.12->dash==0.21.0) (8.0.1)\n",
      "Requirement already satisfied: itsdangerous>=2.0 in /opt/conda/lib/python3.8/site-packages (from Flask>=0.12->dash==0.21.0) (2.0.1)\n",
      "Requirement already satisfied: Werkzeug>=2.0 in /opt/conda/lib/python3.8/site-packages (from Flask>=0.12->dash==0.21.0) (2.0.1)\n",
      "Requirement already satisfied: MarkupSafe>=2.0 in /home/ubuntu/.local/lib/python3.8/site-packages (from Jinja2>=3.0->Flask>=0.12->dash==0.21.0) (2.0.1)\n",
      "Requirement already satisfied: brotli in /opt/conda/lib/python3.8/site-packages (from flask-compress->dash==0.21.0) (1.0.9)\n",
      "Requirement already satisfied: tenacity>=6.2.0 in /opt/conda/lib/python3.8/site-packages (from plotly->dash==0.21.0) (8.0.1)\n",
      "Requirement already satisfied: six in /opt/conda/lib/python3.8/site-packages (from plotly->dash==0.21.0) (1.15.0)\n",
      "Building wheels for collected packages: dash, dash-core-components, dash-html-components, dash-renderer, dash-table-experiments\n",
      "  Building wheel for dash (setup.py) ... \u001b[?25ldone\n",
      "\u001b[?25h  Created wheel for dash: filename=dash-0.21.0-py3-none-any.whl size=17578 sha256=23d6cda745303dbafe9b1e189358a96e8abf6534ff893406edf8b90b5fa2f8be\n",
      "  Stored in directory: /home/ubuntu/.cache/pip/wheels/37/ef/ce/528b4b67cfd171393e64a2fdd699c864bc2a3d314ad2b01078\n",
      "  Building wheel for dash-core-components (setup.py) ... \u001b[?25ldone\n",
      "\u001b[?25h  Created wheel for dash-core-components: filename=dash_core_components-0.21.1-py3-none-any.whl size=1962670 sha256=a363c2ed22fa630e22894d5a72cacec455fd13cf6eeced5ee8bc380b64f12376\n",
      "  Stored in directory: /home/ubuntu/.cache/pip/wheels/00/2d/df/e3983230f771a77b6c22cb8388df93529314076ec56eec5bd8\n",
      "  Building wheel for dash-html-components (setup.py) ... \u001b[?25ldone\n",
      "\u001b[?25h  Created wheel for dash-html-components: filename=dash_html_components-0.9.0-py3-none-any.whl size=47429 sha256=8bea3f654d5835c6471c686a6167d80499fcafb6bde79b7fc49e6c954a637cdb\n",
      "  Stored in directory: /home/ubuntu/.cache/pip/wheels/4f/78/87/b183b29b5d38afb628ab84eab802f7849d145b0adbfacfeca1\n",
      "  Building wheel for dash-renderer (setup.py) ... \u001b[?25ldone\n",
      "\u001b[?25h  Created wheel for dash-renderer: filename=dash_renderer-0.12.1-py3-none-any.whl size=164333 sha256=9663eec77b1de8a4afd9847ffabee22f105d86d4e499d1c5b72eb109e7923b09\n",
      "  Stored in directory: /home/ubuntu/.cache/pip/wheels/b4/ce/77/aaa7106035ae72da32a300df3e2a552d094bc01cb6a53a81ec\n",
      "  Building wheel for dash-table-experiments (setup.py) ... \u001b[?25ldone\n",
      "\u001b[?25h  Created wheel for dash-table-experiments: filename=dash_table_experiments-0.6.0-py3-none-any.whl size=746789 sha256=66b873d2b63503a428a666c2806897ec0271e92bbf3c572f538e9bd33261c320\n",
      "  Stored in directory: /home/ubuntu/.cache/pip/wheels/96/23/2f/d0c993e7d8c91d1d9076c4a497a1c9270e1237f1af4162feaa\n",
      "Successfully built dash dash-core-components dash-html-components dash-renderer dash-table-experiments\n",
      "Installing collected packages: dash, dash-table-experiments, dash-renderer, dash-html-components, dash-core-components\n",
      "Successfully installed dash-0.21.0 dash-core-components-0.21.1 dash-html-components-0.9.0 dash-renderer-0.12.1 dash-table-experiments-0.6.0\n"
     ]
    }
   ],
   "source": [
    "!pip install dash==0.21.0 \\\n",
    "                  dash-core-components==0.21.1\\\n",
    "                  dash-html-components==0.9.0\\\n",
    "                  dash-renderer==0.12.1\\\n",
    "                  dash-table-experiments==0.6.0"
   ]
  },
  {
   "cell_type": "code",
   "execution_count": 2,
   "metadata": {},
   "outputs": [],
   "source": [
    "import base64\n",
    "import os\n",
    "from urllib.parse import quote as urlquote\n",
    "\n",
    "from flask import Flask, send_from_directory\n",
    "import dash\n",
    "import dash_core_components as dcc\n",
    "import dash_html_components as html\n",
    "from dash.dependencies import Input, Output"
   ]
  },
  {
   "cell_type": "code",
   "execution_count": 3,
   "metadata": {},
   "outputs": [],
   "source": [
    "UPLOAD_DIRECTORY = \"./project/app_uploaded_files\"\n",
    "\n",
    "if not os.path.exists(UPLOAD_DIRECTORY):\n",
    "    os.makedirs(UPLOAD_DIRECTORY)"
   ]
  },
  {
   "cell_type": "code",
   "execution_count": 4,
   "metadata": {},
   "outputs": [],
   "source": [
    "ls {UPLOAD_DIRECTORY}"
   ]
  },
  {
   "cell_type": "code",
   "execution_count": 5,
   "metadata": {},
   "outputs": [
    {
     "name": "stdout",
     "output_type": "stream",
     "text": [
      "<Domino url>alireza_mounesisohi/test-dash-app/notebookSession/622bb1b5a8148417c01b16b8/proxy/8882\n"
     ]
    }
   ],
   "source": [
    "#server = Flask(__name__)\n",
    "#app = dash.Dash(server=server)\n",
    "\n",
    "portID = '8882'\n",
    "runID = os.environ['DOMINO_RUN_ID']\n",
    "user = os.environ['DOMINO_PROJECT_OWNER']\n",
    "project = os.environ['DOMINO_PROJECT_NAME']\n",
    "\n",
    "app_path = '<Domino url>'+ user + '/' + project +'/notebookSession/' + runID + '/proxy/' + portID\n",
    "assets_path = app_path + '/assets/'\n",
    "print(app_path)\n",
    "\n",
    "#set the external path to the assets folder\n",
    "app = dash.Dash(assets_external_path = assets_path)\n",
    "#app = dash.Dash()\n",
    "\n",
    "app.scripts.config.serve_locally = True\n",
    "app.css.config.serve_locally = True    \n",
    "app = dash.Dash()\n",
    " \n",
    "app.scripts.config.serve_locally = True\n",
    "# app.css.config.serve_locally = True\n",
    " \n",
    "################################################################\n",
    "# Configure path for dependencies. This is required for Domino.\n",
    "#Learn more about Dash on Domino https://blog.dominodatalab.com/building-domino-web-app-dash/\n",
    "app.config.routes_pathname_prefix=''+portID+'/'\n",
    "app.config.requests_pathname_prefix=''+portID+'/'\n",
    "#################################################################\n"
   ]
  },
  {
   "cell_type": "code",
   "execution_count": 6,
   "metadata": {},
   "outputs": [],
   "source": [
    "def download(path):\n",
    "    \"\"\"Serve a file from the upload directory.\"\"\"\n",
    "    return send_from_directory(UPLOAD_DIRECTORY, path, as_attachment=True)\n",
    "\n",
    "\n",
    "app.layout = html.Div(\n",
    "    [\n",
    "        html.H1(\"File Browser\"),\n",
    "        html.H2(\"Upload\"),\n",
    "        dcc.Upload(\n",
    "            id=\"upload-data\",\n",
    "            children=html.Div(\n",
    "                [\"Drag and drop or click to select a file to upload.\"]\n",
    "            ),\n",
    "            style={\n",
    "                \"width\": \"100%\",\n",
    "                \"height\": \"60px\",\n",
    "                \"lineHeight\": \"60px\",\n",
    "                \"borderWidth\": \"1px\",\n",
    "                \"borderStyle\": \"dashed\",\n",
    "                \"borderRadius\": \"5px\",\n",
    "                \"textAlign\": \"center\",\n",
    "                \"margin\": \"10px\",\n",
    "            },\n",
    "            multiple=True,\n",
    "        ),\n",
    "        html.H2(\"File List\"),\n",
    "        html.Ul(id=\"file-list\"),\n",
    "    ],\n",
    "    style={\"max-width\": \"500px\"},\n",
    ")\n",
    "\n",
    "\n",
    "def save_file(name, content):\n",
    "    \"\"\"Decode and store a file uploaded with Plotly Dash.\"\"\"\n",
    "    data = content.encode(\"utf8\").split(b\";base64,\")[1]\n",
    "    with open(os.path.join(UPLOAD_DIRECTORY, name), \"wb\") as fp:\n",
    "        fp.write(base64.decodebytes(data))\n",
    "\n",
    "\n",
    "def uploaded_files():\n",
    "    \"\"\"List the files in the upload directory.\"\"\"\n",
    "    files = []\n",
    "    for filename in os.listdir(UPLOAD_DIRECTORY):\n",
    "        path = os.path.join(UPLOAD_DIRECTORY, filename)\n",
    "        if os.path.isfile(path):\n",
    "            files.append(filename)\n",
    "    return files\n",
    "\n",
    "\n",
    "def file_download_link(filename):\n",
    "    \"\"\"Create a Plotly Dash 'A' element that downloads a file from the app.\"\"\"\n",
    "    location = \"./\" #download/{}\".format(urlquote(filename))\n",
    "    return html.A(filename, href=location)\n"
   ]
  },
  {
   "cell_type": "code",
   "execution_count": 7,
   "metadata": {},
   "outputs": [],
   "source": [
    "@app.callback(\n",
    "    Output(\"file-list\", \"children\"),\n",
    "    [Input(\"upload-data\", \"filename\"), Input(\"upload-data\", \"contents\")],\n",
    ")\n",
    "\n",
    "def update_output(uploaded_filenames, uploaded_file_contents):\n",
    "    \"\"\"Save uploaded files and regenerate the file list.\"\"\"\n",
    "\n",
    "    if uploaded_filenames is not None and uploaded_file_contents is not None:\n",
    "        for name, data in zip(uploaded_filenames, uploaded_file_contents):\n",
    "            save_file(name, data)\n",
    "\n",
    "    files = uploaded_files()\n",
    "    \n",
    "    if len(files) == 0:\n",
    "        return [html.Li(\"No files yet!\")]\n",
    "    else:\n",
    "        return [html.Li(file_download_link(filename)) for filename in files]"
   ]
  },
  {
   "cell_type": "code",
   "execution_count": null,
   "metadata": {},
   "outputs": [
    {
     "name": "stdout",
     "output_type": "stream",
     "text": [
      " * Serving Flask app 'dash' (lazy loading)\n",
      " * Environment: production\n",
      "\u001b[31m   WARNING: This is a development server. Do not use it in a production deployment.\u001b[0m\n",
      "\u001b[2m   Use a production WSGI server instead.\u001b[0m\n",
      " * Debug mode: off\n"
     ]
    },
    {
     "name": "stderr",
     "output_type": "stream",
     "text": [
      " * Running on all addresses.\n",
      "   WARNING: This is a development server. Do not use it in a production deployment.\n",
      " * Running on http://10.0.60.12:8882/ (Press CTRL+C to quit)\n",
      "127.0.0.1 - - [11/Mar/2022 20:32:55] \"GET / HTTP/1.1\" 200 -\n",
      "127.0.0.1 - - [11/Mar/2022 20:32:56] \"GET /_dash-component-suites/dash_core_components/rc-slider@6.1.2.css?v=0.21.1 HTTP/1.1\" 200 -\n",
      "127.0.0.1 - - [11/Mar/2022 20:32:56] \"GET /_dash-component-suites/dash_core_components/react-virtualized@9.9.0.css?v=0.21.1 HTTP/1.1\" 200 -\n",
      "127.0.0.1 - - [11/Mar/2022 20:32:56] \"GET /_dash-component-suites/dash_core_components/react-select@1.0.0-rc.3.min.css?v=0.21.1 HTTP/1.1\" 200 -\n",
      "127.0.0.1 - - [11/Mar/2022 20:32:56] \"GET /_dash-component-suites/dash_core_components/react-virtualized-select@3.1.0.css?v=0.21.1 HTTP/1.1\" 200 -\n",
      "127.0.0.1 - - [11/Mar/2022 20:32:56] \"GET /_dash-component-suites/dash_core_components/react-dates@12.3.0.css?v=0.21.1 HTTP/1.1\" 200 -\n",
      "127.0.0.1 - - [11/Mar/2022 20:32:56] \"GET /_dash-component-suites/dash_renderer/react@15.4.2.min.js?v=0.12.1 HTTP/1.1\" 200 -\n",
      "127.0.0.1 - - [11/Mar/2022 20:32:56] \"GET /_dash-component-suites/dash_renderer/react-dom@15.4.2.min.js?v=0.12.1 HTTP/1.1\" 200 -\n",
      "127.0.0.1 - - [11/Mar/2022 20:32:56] \"GET /_dash-component-suites/dash_html_components/bundle.js?v=0.9.0 HTTP/1.1\" 200 -\n",
      "127.0.0.1 - - [11/Mar/2022 20:32:56] \"GET /_dash-component-suites/dash_core_components/plotly-1.35.2.min.js?v=0.21.1 HTTP/1.1\" 200 -\n",
      "127.0.0.1 - - [11/Mar/2022 20:32:56] \"GET /_dash-component-suites/dash_core_components/bundle.js?v=0.21.1 HTTP/1.1\" 200 -\n",
      "127.0.0.1 - - [11/Mar/2022 20:32:56] \"GET /_dash-component-suites/dash_renderer/bundle.js?v=0.12.1 HTTP/1.1\" 200 -\n",
      "127.0.0.1 - - [11/Mar/2022 20:32:58] \"GET /_dash-dependencies HTTP/1.1\" 200 -\n",
      "127.0.0.1 - - [11/Mar/2022 20:32:58] \"GET /_dash-layout HTTP/1.1\" 200 -\n",
      "127.0.0.1 - - [11/Mar/2022 20:32:58] \"POST /_dash-update-component HTTP/1.1\" 200 -\n"
     ]
    }
   ],
   "source": [
    "if __name__ == '__main__':\n",
    "    app.run_server(host='0.0.0.0',port=int(portID)) # Domino hosts all apps at 0.0.0.0:8888"
   ]
  },
  {
   "cell_type": "code",
   "execution_count": null,
   "metadata": {},
   "outputs": [],
   "source": []
  }
 ],
 "metadata": {
  "kernelspec": {
   "display_name": "Python 3 (ipykernel)",
   "language": "python",
   "name": "python3"
  },
  "language_info": {
   "codemirror_mode": {
    "name": "ipython",
    "version": 3
   },
   "file_extension": ".py",
   "mimetype": "text/x-python",
   "name": "python",
   "nbconvert_exporter": "python",
   "pygments_lexer": "ipython3",
   "version": "3.8.10"
  }
 },
 "nbformat": 4,
 "nbformat_minor": 4
}
