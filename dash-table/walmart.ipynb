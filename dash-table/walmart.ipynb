{
 "cells": [
  {
   "cell_type": "code",
   "execution_count": 1,
   "metadata": {},
   "outputs": [
    {
     "name": "stdout",
     "output_type": "stream",
     "text": [
      "Collecting flask==0.12\n",
      "  Downloading Flask-0.12-py2.py3-none-any.whl (82 kB)\n",
      "\u001b[K     |████████████████████████████████| 82 kB 2.4 MB/s eta 0:00:011\n",
      "\u001b[?25hCollecting dash==0.21.0\n",
      "  Downloading dash-0.21.0.tar.gz (15 kB)\n",
      "Collecting dash-core-components==0.21.1\n",
      "  Downloading dash_core_components-0.21.1.tar.gz (1.9 MB)\n",
      "\u001b[K     |████████████████████████████████| 1.9 MB 52.4 MB/s eta 0:00:01\n",
      "\u001b[?25hCollecting dash-html-components==0.9.0\n",
      "  Downloading dash_html_components-0.9.0.tar.gz (45 kB)\n",
      "\u001b[K     |████████████████████████████████| 45 kB 8.8 MB/s  eta 0:00:01\n",
      "\u001b[?25hCollecting dash-renderer==0.12.1\n",
      "  Downloading dash_renderer-0.12.1.tar.gz (160 kB)\n",
      "\u001b[K     |████████████████████████████████| 160 kB 92.9 MB/s eta 0:00:01\n",
      "\u001b[?25hCollecting dash-table-experiments==0.6.0\n",
      "  Downloading dash_table_experiments-0.6.0.tar.gz (738 kB)\n",
      "\u001b[K     |████████████████████████████████| 738 kB 80.3 MB/s eta 0:00:01\n",
      "\u001b[?25hRequirement already satisfied: Jinja2>=2.4 in /opt/conda/lib/python3.6/site-packages (from flask==0.12) (2.11.2)\n",
      "Requirement already satisfied: itsdangerous>=0.21 in /opt/conda/lib/python3.6/site-packages (from flask==0.12) (0.24)\n",
      "Requirement already satisfied: Werkzeug>=0.7 in /opt/conda/lib/python3.6/site-packages (from flask==0.12) (0.16.1)\n",
      "Requirement already satisfied: click>=2.0 in /opt/conda/lib/python3.6/site-packages (from flask==0.12) (6.7)\n",
      "Requirement already satisfied: flask-compress in /opt/conda/lib/python3.6/site-packages (from dash==0.21.0) (1.4.0)\n",
      "Collecting plotly\n",
      "  Downloading plotly-5.6.0-py2.py3-none-any.whl (27.7 MB)\n",
      "\u001b[K     |████████████████████████████████| 27.7 MB 52.7 MB/s eta 0:00:01\n",
      "\u001b[?25hRequirement already satisfied: MarkupSafe>=0.23 in /opt/conda/lib/python3.6/site-packages (from Jinja2>=2.4->flask==0.12) (1.1.1)\n",
      "Requirement already satisfied: six in /opt/conda/lib/python3.6/site-packages (from plotly->dash==0.21.0) (1.14.0)\n",
      "Collecting tenacity>=6.2.0\n",
      "  Downloading tenacity-8.0.1-py3-none-any.whl (24 kB)\n",
      "Building wheels for collected packages: dash, dash-core-components, dash-html-components, dash-renderer, dash-table-experiments\n",
      "  Building wheel for dash (setup.py) ... \u001b[?25ldone\n",
      "\u001b[?25h  Created wheel for dash: filename=dash-0.21.0-py3-none-any.whl size=17577 sha256=158b11275e2a573f05012b7acbd554fcee8bf4bdbf764d38749df6f3dfa8f543\n",
      "  Stored in directory: /home/ubuntu/.cache/pip/wheels/cc/06/1f/431467780583b82f0dbdfceacf6d7ac9de1b2b90132d359ca6\n",
      "  Building wheel for dash-core-components (setup.py) ... \u001b[?25ldone\n",
      "\u001b[?25h  Created wheel for dash-core-components: filename=dash_core_components-0.21.1-py3-none-any.whl size=1962668 sha256=994ed83db41674c6b64b75b13337a3e8f310db97546ff6b0be3c3a82aa71d3c2\n",
      "  Stored in directory: /home/ubuntu/.cache/pip/wheels/76/85/a0/20c5f901bf970e79115d46888171be37cd4e24f4a4c667c693\n",
      "  Building wheel for dash-html-components (setup.py) ... \u001b[?25ldone\n",
      "\u001b[?25h  Created wheel for dash-html-components: filename=dash_html_components-0.9.0-py3-none-any.whl size=47432 sha256=c7507478c359f782fc58cdc423a5271644d41ca87e4e824f96b52f9910e05782\n",
      "  Stored in directory: /home/ubuntu/.cache/pip/wheels/01/0e/27/648d3ba905eb51c8ca8fe978a21c2e5eb57e7b4f1dc9498237\n",
      "  Building wheel for dash-renderer (setup.py) ... \u001b[?25ldone\n",
      "\u001b[?25h  Created wheel for dash-renderer: filename=dash_renderer-0.12.1-py3-none-any.whl size=164333 sha256=ab53a4972cee18d01bfde67297ea04b079ac7f1e6c348a8c6ab58bee48758c46\n",
      "  Stored in directory: /home/ubuntu/.cache/pip/wheels/09/2b/62/0a8c94aa71464a390913c91338baca0e8d610772c8b941f78d\n",
      "  Building wheel for dash-table-experiments (setup.py) ... \u001b[?25ldone\n",
      "\u001b[?25h  Created wheel for dash-table-experiments: filename=dash_table_experiments-0.6.0-py3-none-any.whl size=746789 sha256=d13d0dff18ef1c21f297e151d06fdb0833c7531224de756f9176c26610e93f39\n",
      "  Stored in directory: /home/ubuntu/.cache/pip/wheels/b7/57/dd/969c60abda0fca560024536951c69074c9b1210439e58b6769\n",
      "Successfully built dash dash-core-components dash-html-components dash-renderer dash-table-experiments\n",
      "Installing collected packages: flask, tenacity, plotly, dash, dash-core-components, dash-html-components, dash-renderer, dash-table-experiments\n",
      "Successfully installed dash-0.21.0 dash-core-components-0.21.1 dash-html-components-0.9.0 dash-renderer-0.12.1 dash-table-experiments-0.6.0 flask-0.12 plotly-5.6.0 tenacity-8.0.1\n",
      "\u001b[33mWARNING: You are using pip version 20.1; however, version 21.3.1 is available.\n",
      "You should consider upgrading via the '/opt/conda/bin/python -m pip install --upgrade pip' command.\u001b[0m\n"
     ]
    }
   ],
   "source": [
    "!pip install --user flask==0.12 \\\n",
    "                dash==0.21.0 \\\n",
    "                dash-core-components==0.21.1\\\n",
    "                dash-html-components==0.9.0\\\n",
    "                dash-renderer==0.12.1\\\n",
    "                dash-table-experiments==0.6.0"
   ]
  },
  {
   "cell_type": "markdown",
   "metadata": {},
   "source": [
    "### source\n",
    "https://github.com/plotly/dash-table-experiments/blob/master/usage.py#L122"
   ]
  },
  {
   "cell_type": "code",
   "execution_count": 8,
   "metadata": {},
   "outputs": [],
   "source": [
    "import dash\n",
    "from dash.dependencies import Input, Output, State\n",
    "import dash_core_components as dcc\n",
    "import dash_html_components as html\n",
    "import dash_table_experiments as dt\n",
    "import json\n",
    "import pandas as pd\n",
    "import numpy as np\n",
    "import plotly\n",
    "import os"
   ]
  },
  {
   "cell_type": "raw",
   "metadata": {},
   "source": [
    "app = dash.Dash()\n",
    "\n",
    "app.scripts.config.serve_locally = True\n",
    "# app.css.config.serve_locally = True"
   ]
  },
  {
   "cell_type": "code",
   "execution_count": 9,
   "metadata": {},
   "outputs": [
    {
     "name": "stdout",
     "output_type": "stream",
     "text": [
      "<Domino url>alireza_mounesisohi/quick-start-project/notebookSession/623c1a458f671737cbf0cd9a/proxy/8883\n"
     ]
    }
   ],
   "source": [
    "#server = Flask(__name__)\n",
    "#app = dash.Dash(server=server)\n",
    "\n",
    "portID = '8883'\n",
    "runID = os.environ['DOMINO_RUN_ID']\n",
    "user = os.environ['DOMINO_PROJECT_OWNER']\n",
    "project = os.environ['DOMINO_PROJECT_NAME']\n",
    "\n",
    "app_path = '<Domino url>'+ user + '/' + project +'/notebookSession/' + runID + '/proxy/' + portID\n",
    "assets_path = app_path + '/assets/'\n",
    "print(app_path)\n",
    "\n",
    "#set the external path to the assets folder\n",
    "app = dash.Dash(assets_external_path = assets_path)\n",
    "#app = dash.Dash()\n",
    "\n",
    "app.scripts.config.serve_locally = True\n",
    "app.css.config.serve_locally = True    \n",
    "app = dash.Dash()\n",
    " \n",
    "app.scripts.config.serve_locally = True\n",
    "# app.css.config.serve_locally = True\n",
    " \n",
    "################################################################\n",
    "# Configure path for dependencies. This is required for Domino.\n",
    "#Learn more about Dash on Domino https://blog.dominodatalab.com/building-domino-web-app-dash/\n",
    "#del app.config._read_only[\"requests_pathname_prefix\"]\n",
    "\n",
    "app.config.routes_pathname_prefix=''+portID+'/'\n",
    "app.config.requests_pathname_prefix=''+portID+'/'\n",
    "#################################################################\n"
   ]
  },
  {
   "cell_type": "code",
   "execution_count": 10,
   "metadata": {},
   "outputs": [],
   "source": [
    "DF_WALMART = pd.read_csv('https://raw.githubusercontent.com/plotly/datasets/master/1962_2006_walmart_store_openings.csv')\n",
    "\n",
    "DF_GAPMINDER = pd.read_csv(\n",
    "    'https://raw.githubusercontent.com/plotly/datasets/master/gapminderDataFiveYear.csv'\n",
    ")\n",
    "DF_GAPMINDER = DF_GAPMINDER[DF_GAPMINDER['year'] == 2007]\n",
    "DF_GAPMINDER.loc[0:20]\n",
    "\n",
    "DF_SIMPLE = pd.DataFrame({\n",
    "    'x': ['A', 'B', 'C', 'D', 'E', 'F'],\n",
    "    'y': [4, 3, 1, 2, 3, 6],\n",
    "    'z': ['a', 'b', 'c', 'a', 'b', 'c']\n",
    "})\n",
    "\n",
    "ROWS = [\n",
    "    {'a': 'AA', 'b': 1},\n",
    "    {'a': 'AB', 'b': 2},\n",
    "    {'a': 'BB', 'b': 3},\n",
    "    {'a': 'BC', 'b': 4},\n",
    "    {'a': 'CC', 'b': 5},\n",
    "    {'a': 'CD', 'b': 6}\n",
    "]\n",
    "\n",
    "\n",
    "app.layout = html.Div([\n",
    "    html.H4('Gapminder DataTable'),\n",
    "    dt.DataTable(\n",
    "        rows=DF_GAPMINDER.to_dict('records'),\n",
    "\n",
    "        # optional - sets the order of columns\n",
    "        columns=sorted(DF_GAPMINDER.columns),\n",
    "\n",
    "        row_selectable=True,\n",
    "        filterable=True,\n",
    "        sortable=True,\n",
    "        selected_row_indices=[],\n",
    "        id='datatable-gapminder'\n",
    "    ),\n",
    "    html.Div(id='selected-indexes'),\n",
    "    dcc.Graph(\n",
    "        id='graph-gapminder'\n",
    "    ),\n",
    "], className=\"container\")"
   ]
  },
  {
   "cell_type": "code",
   "execution_count": 11,
   "metadata": {},
   "outputs": [],
   "source": [
    "@app.callback(\n",
    "    Output('datatable-gapminder', 'selected_row_indices'),\n",
    "    [Input('graph-gapminder', 'clickData')],\n",
    "    [State('datatable-gapminder', 'selected_row_indices')])\n",
    "def update_selected_row_indices(clickData, selected_row_indices):\n",
    "    if clickData:\n",
    "        for point in clickData['points']:\n",
    "            if point['pointNumber'] in selected_row_indices:\n",
    "                selected_row_indices.remove(point['pointNumber'])\n",
    "            else:\n",
    "                selected_row_indices.append(point['pointNumber'])\n",
    "    return selected_row_indices\n",
    "\n",
    "\n",
    "@app.callback(\n",
    "    Output('graph-gapminder', 'figure'),\n",
    "    [Input('datatable-gapminder', 'rows'),\n",
    "     Input('datatable-gapminder', 'selected_row_indices')])\n",
    "def update_figure(rows, selected_row_indices):\n",
    "    dff = pd.DataFrame(rows)\n",
    "    fig = plotly.tools.make_subplots(\n",
    "        rows=3, cols=1,\n",
    "        subplot_titles=('Life Expectancy', 'GDP Per Capita', 'Population',),\n",
    "        shared_xaxes=True)\n",
    "    marker = {'color': ['#0074D9']*len(dff)}\n",
    "    for i in (selected_row_indices or []):\n",
    "        marker['color'][i] = '#FF851B'\n",
    "    fig.append_trace({\n",
    "        'x': dff['country'],\n",
    "        'y': dff['lifeExp'],\n",
    "        'type': 'bar',\n",
    "        'marker': marker\n",
    "    }, 1, 1)\n",
    "    fig.append_trace({\n",
    "        'x': dff['country'],\n",
    "        'y': dff['gdpPercap'],\n",
    "        'type': 'bar',\n",
    "        'marker': marker\n",
    "    }, 2, 1)\n",
    "    fig.append_trace({\n",
    "        'x': dff['country'],\n",
    "        'y': dff['pop'],\n",
    "        'type': 'bar',\n",
    "        'marker': marker\n",
    "    }, 3, 1)\n",
    "    fig['layout']['showlegend'] = False\n",
    "    fig['layout']['height'] = 800\n",
    "    fig['layout']['margin'] = {\n",
    "        'l': 40,\n",
    "        'r': 10,\n",
    "        't': 60,\n",
    "        'b': 200\n",
    "    }\n",
    "    fig['layout']['yaxis3']['type'] = 'log'\n",
    "    return fig"
   ]
  },
  {
   "cell_type": "code",
   "execution_count": 12,
   "metadata": {},
   "outputs": [],
   "source": [
    "app.css.append_css({\n",
    "    'external_url': 'https://codepen.io/chriddyp/pen/bWLwgP.css'\n",
    "})"
   ]
  },
  {
   "cell_type": "raw",
   "metadata": {},
   "source": [
    "if __name__ == '__main__':\n",
    "    app.run_server(debug=True)"
   ]
  },
  {
   "cell_type": "code",
   "execution_count": null,
   "metadata": {},
   "outputs": [
    {
     "name": "stderr",
     "output_type": "stream",
     "text": [
      " * Running on http://0.0.0.0:8883/ (Press CTRL+C to quit)\n",
      "/home/ubuntu/.local/lib/python3.6/site-packages/dash/resources.py:36: UserWarning:\n",
      "\n",
      "A local version of https://codepen.io/chriddyp/pen/bWLwgP.css is not available\n",
      "\n",
      "127.0.0.1 - - [24/Mar/2022 07:19:02] \"\u001b[37mGET / HTTP/1.1\u001b[0m\" 200 -\n",
      "127.0.0.1 - - [24/Mar/2022 07:19:02] \"\u001b[37mGET /_dash-component-suites/dash_table_experiments/dash_table_experiments.css?v=0.6.0 HTTP/1.1\u001b[0m\" 200 -\n",
      "127.0.0.1 - - [24/Mar/2022 07:19:02] \"\u001b[37mGET /_dash-component-suites/dash_core_components/react-select@1.0.0-rc.3.min.css?v=0.21.1 HTTP/1.1\u001b[0m\" 200 -\n",
      "127.0.0.1 - - [24/Mar/2022 07:19:02] \"\u001b[37mGET /_dash-component-suites/dash_core_components/rc-slider@6.1.2.css?v=0.21.1 HTTP/1.1\u001b[0m\" 200 -\n",
      "127.0.0.1 - - [24/Mar/2022 07:19:02] \"\u001b[37mGET /_dash-component-suites/dash_core_components/react-virtualized@9.9.0.css?v=0.21.1 HTTP/1.1\u001b[0m\" 200 -\n",
      "127.0.0.1 - - [24/Mar/2022 07:19:02] \"\u001b[37mGET /_dash-component-suites/dash_core_components/react-virtualized-select@3.1.0.css?v=0.21.1 HTTP/1.1\u001b[0m\" 200 -\n",
      "127.0.0.1 - - [24/Mar/2022 07:19:02] \"\u001b[37mGET /_dash-component-suites/dash_core_components/react-dates@12.3.0.css?v=0.21.1 HTTP/1.1\u001b[0m\" 200 -\n",
      "127.0.0.1 - - [24/Mar/2022 07:19:02] \"\u001b[37mGET /_dash-component-suites/dash_renderer/react@15.4.2.min.js?v=0.12.1 HTTP/1.1\u001b[0m\" 200 -\n",
      "127.0.0.1 - - [24/Mar/2022 07:19:02] \"\u001b[37mGET /_dash-component-suites/dash_renderer/react-dom@15.4.2.min.js?v=0.12.1 HTTP/1.1\u001b[0m\" 200 -\n",
      "127.0.0.1 - - [24/Mar/2022 07:19:02] \"\u001b[37mGET /_dash-component-suites/dash_html_components/bundle.js?v=0.9.0 HTTP/1.1\u001b[0m\" 200 -\n",
      "127.0.0.1 - - [24/Mar/2022 07:19:02] \"\u001b[37mGET /_dash-component-suites/dash_core_components/plotly-1.35.2.min.js?v=0.21.1 HTTP/1.1\u001b[0m\" 200 -\n",
      "127.0.0.1 - - [24/Mar/2022 07:19:02] \"\u001b[37mGET /_dash-component-suites/dash_table_experiments/bundle.js?v=0.6.0 HTTP/1.1\u001b[0m\" 200 -\n",
      "127.0.0.1 - - [24/Mar/2022 07:19:02] \"\u001b[37mGET /_dash-component-suites/dash_core_components/bundle.js?v=0.21.1 HTTP/1.1\u001b[0m\" 200 -\n",
      "127.0.0.1 - - [24/Mar/2022 07:19:02] \"\u001b[37mGET /_dash-component-suites/dash_renderer/bundle.js?v=0.12.1 HTTP/1.1\u001b[0m\" 200 -\n",
      "127.0.0.1 - - [24/Mar/2022 07:19:03] \"\u001b[37mGET /_dash-layout HTTP/1.1\u001b[0m\" 200 -\n",
      "127.0.0.1 - - [24/Mar/2022 07:19:03] \"\u001b[37mGET /_dash-dependencies HTTP/1.1\u001b[0m\" 200 -\n",
      "127.0.0.1 - - [24/Mar/2022 07:19:03] \"\u001b[37mPOST /_dash-update-component HTTP/1.1\u001b[0m\" 200 -\n",
      "/home/ubuntu/.local/lib/python3.6/site-packages/plotly/tools.py:465: DeprecationWarning:\n",
      "\n",
      "plotly.tools.make_subplots is deprecated, please use plotly.subplots.make_subplots instead\n",
      "\n",
      "127.0.0.1 - - [24/Mar/2022 07:19:04] \"\u001b[37mPOST /_dash-update-component HTTP/1.1\u001b[0m\" 200 -\n"
     ]
    }
   ],
   "source": [
    "if __name__ == '__main__':\n",
    "    app.run_server(host='0.0.0.0',port=int(portID)) # Domino hosts all apps at 0.0.0.0:8888"
   ]
  },
  {
   "cell_type": "code",
   "execution_count": null,
   "metadata": {},
   "outputs": [],
   "source": []
  }
 ],
 "metadata": {
  "kernelspec": {
   "display_name": "Python 3",
   "language": "python",
   "name": "python3"
  },
  "language_info": {
   "codemirror_mode": {
    "name": "ipython",
    "version": 3
   },
   "file_extension": ".py",
   "mimetype": "text/x-python",
   "name": "python",
   "nbconvert_exporter": "python",
   "pygments_lexer": "ipython3",
   "version": "3.6.10"
  }
 },
 "nbformat": 4,
 "nbformat_minor": 4
}
