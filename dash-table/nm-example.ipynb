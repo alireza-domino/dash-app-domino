{
 "cells": [
  {
   "cell_type": "code",
   "execution_count": 1,
   "metadata": {},
   "outputs": [
    {
     "name": "stdout",
     "output_type": "stream",
     "text": [
      "Collecting flask==0.12\n",
      "  Downloading Flask-0.12-py2.py3-none-any.whl (82 kB)\n",
      "\u001b[K     |████████████████████████████████| 82 kB 2.4 MB/s eta 0:00:011\n",
      "\u001b[?25hCollecting dash==0.21.0\n",
      "  Downloading dash-0.21.0.tar.gz (15 kB)\n",
      "Collecting dash-core-components==0.21.1\n",
      "  Downloading dash_core_components-0.21.1.tar.gz (1.9 MB)\n",
      "\u001b[K     |████████████████████████████████| 1.9 MB 52.4 MB/s eta 0:00:01\n",
      "\u001b[?25hCollecting dash-html-components==0.9.0\n",
      "  Downloading dash_html_components-0.9.0.tar.gz (45 kB)\n",
      "\u001b[K     |████████████████████████████████| 45 kB 8.8 MB/s  eta 0:00:01\n",
      "\u001b[?25hCollecting dash-renderer==0.12.1\n",
      "  Downloading dash_renderer-0.12.1.tar.gz (160 kB)\n",
      "\u001b[K     |████████████████████████████████| 160 kB 92.9 MB/s eta 0:00:01\n",
      "\u001b[?25hCollecting dash-table-experiments==0.6.0\n",
      "  Downloading dash_table_experiments-0.6.0.tar.gz (738 kB)\n",
      "\u001b[K     |████████████████████████████████| 738 kB 80.3 MB/s eta 0:00:01\n",
      "\u001b[?25hRequirement already satisfied: Jinja2>=2.4 in /opt/conda/lib/python3.6/site-packages (from flask==0.12) (2.11.2)\n",
      "Requirement already satisfied: itsdangerous>=0.21 in /opt/conda/lib/python3.6/site-packages (from flask==0.12) (0.24)\n",
      "Requirement already satisfied: Werkzeug>=0.7 in /opt/conda/lib/python3.6/site-packages (from flask==0.12) (0.16.1)\n",
      "Requirement already satisfied: click>=2.0 in /opt/conda/lib/python3.6/site-packages (from flask==0.12) (6.7)\n",
      "Requirement already satisfied: flask-compress in /opt/conda/lib/python3.6/site-packages (from dash==0.21.0) (1.4.0)\n",
      "Collecting plotly\n",
      "  Downloading plotly-5.6.0-py2.py3-none-any.whl (27.7 MB)\n",
      "\u001b[K     |████████████████████████████████| 27.7 MB 52.7 MB/s eta 0:00:01\n",
      "\u001b[?25hRequirement already satisfied: MarkupSafe>=0.23 in /opt/conda/lib/python3.6/site-packages (from Jinja2>=2.4->flask==0.12) (1.1.1)\n",
      "Requirement already satisfied: six in /opt/conda/lib/python3.6/site-packages (from plotly->dash==0.21.0) (1.14.0)\n",
      "Collecting tenacity>=6.2.0\n",
      "  Downloading tenacity-8.0.1-py3-none-any.whl (24 kB)\n",
      "Building wheels for collected packages: dash, dash-core-components, dash-html-components, dash-renderer, dash-table-experiments\n",
      "  Building wheel for dash (setup.py) ... \u001b[?25ldone\n",
      "\u001b[?25h  Created wheel for dash: filename=dash-0.21.0-py3-none-any.whl size=17577 sha256=158b11275e2a573f05012b7acbd554fcee8bf4bdbf764d38749df6f3dfa8f543\n",
      "  Stored in directory: /home/ubuntu/.cache/pip/wheels/cc/06/1f/431467780583b82f0dbdfceacf6d7ac9de1b2b90132d359ca6\n",
      "  Building wheel for dash-core-components (setup.py) ... \u001b[?25ldone\n",
      "\u001b[?25h  Created wheel for dash-core-components: filename=dash_core_components-0.21.1-py3-none-any.whl size=1962668 sha256=994ed83db41674c6b64b75b13337a3e8f310db97546ff6b0be3c3a82aa71d3c2\n",
      "  Stored in directory: /home/ubuntu/.cache/pip/wheels/76/85/a0/20c5f901bf970e79115d46888171be37cd4e24f4a4c667c693\n",
      "  Building wheel for dash-html-components (setup.py) ... \u001b[?25ldone\n",
      "\u001b[?25h  Created wheel for dash-html-components: filename=dash_html_components-0.9.0-py3-none-any.whl size=47432 sha256=c7507478c359f782fc58cdc423a5271644d41ca87e4e824f96b52f9910e05782\n",
      "  Stored in directory: /home/ubuntu/.cache/pip/wheels/01/0e/27/648d3ba905eb51c8ca8fe978a21c2e5eb57e7b4f1dc9498237\n",
      "  Building wheel for dash-renderer (setup.py) ... \u001b[?25ldone\n",
      "\u001b[?25h  Created wheel for dash-renderer: filename=dash_renderer-0.12.1-py3-none-any.whl size=164333 sha256=ab53a4972cee18d01bfde67297ea04b079ac7f1e6c348a8c6ab58bee48758c46\n",
      "  Stored in directory: /home/ubuntu/.cache/pip/wheels/09/2b/62/0a8c94aa71464a390913c91338baca0e8d610772c8b941f78d\n",
      "  Building wheel for dash-table-experiments (setup.py) ... \u001b[?25ldone\n",
      "\u001b[?25h  Created wheel for dash-table-experiments: filename=dash_table_experiments-0.6.0-py3-none-any.whl size=746789 sha256=d13d0dff18ef1c21f297e151d06fdb0833c7531224de756f9176c26610e93f39\n",
      "  Stored in directory: /home/ubuntu/.cache/pip/wheels/b7/57/dd/969c60abda0fca560024536951c69074c9b1210439e58b6769\n",
      "Successfully built dash dash-core-components dash-html-components dash-renderer dash-table-experiments\n",
      "Installing collected packages: flask, tenacity, plotly, dash, dash-core-components, dash-html-components, dash-renderer, dash-table-experiments\n",
      "Successfully installed dash-0.21.0 dash-core-components-0.21.1 dash-html-components-0.9.0 dash-renderer-0.12.1 dash-table-experiments-0.6.0 flask-0.12 plotly-5.6.0 tenacity-8.0.1\n",
      "\u001b[33mWARNING: You are using pip version 20.1; however, version 21.3.1 is available.\n",
      "You should consider upgrading via the '/opt/conda/bin/python -m pip install --upgrade pip' command.\u001b[0m\n"
     ]
    }
   ],
   "source": [
    "!pip install --user flask==0.12 \\\n",
    "                dash==0.21.0 \\\n",
    "                dash-core-components==0.21.1\\\n",
    "                dash-html-components==0.9.0\\\n",
    "                dash-renderer==0.12.1\\\n",
    "                dash-table-experiments==0.6.0"
   ]
  },
  {
   "cell_type": "code",
   "execution_count": 1,
   "metadata": {},
   "outputs": [],
   "source": [
    "import os\n",
    "import dash\n",
    "import pandas as pd\n",
    "import dash_html_components as html\n",
    "import dash_table_experiments as dt       # <------------- adding dash_table_experiments\n",
    "import dash_core_components as dcc"
   ]
  },
  {
   "cell_type": "code",
   "execution_count": 2,
   "metadata": {},
   "outputs": [
    {
     "name": "stdout",
     "output_type": "stream",
     "text": [
      "<Domino url>alireza_mounesisohi/quick-start-project/notebookSession/623c1a458f671737cbf0cd9a/proxy/8887\n"
     ]
    }
   ],
   "source": [
    "#server = Flask(__name__)\n",
    "#app = dash.Dash(server=server)\n",
    "\n",
    "portID = '8887'\n",
    "runID = os.environ['DOMINO_RUN_ID']\n",
    "user = os.environ['DOMINO_PROJECT_OWNER']\n",
    "project = os.environ['DOMINO_PROJECT_NAME']\n",
    "\n",
    "app_path = '<Domino url>'+ user + '/' + project +'/notebookSession/' + runID + '/proxy/' + portID\n",
    "assets_path = app_path + '/assets/'\n",
    "print(app_path)\n",
    "\n",
    "#set the external path to the assets folder\n",
    "app = dash.Dash(assets_external_path = assets_path)\n",
    "#app = dash.Dash()\n",
    "\n",
    "app.scripts.config.serve_locally = True\n",
    "app.css.config.serve_locally = True    \n",
    "app = dash.Dash()\n",
    " \n",
    "app.scripts.config.serve_locally = True\n",
    "# app.css.config.serve_locally = True\n",
    " \n",
    "################################################################\n",
    "# Configure path for dependencies. This is required for Domino.\n",
    "#Learn more about Dash on Domino https://blog.dominodatalab.com/building-domino-web-app-dash/\n",
    "#del app.config._read_only[\"requests_pathname_prefix\"]\n",
    "\n",
    "app.config.routes_pathname_prefix=''+portID+'/'\n",
    "app.config.requests_pathname_prefix=''+portID+'/'\n",
    "#################################################################\n"
   ]
  },
  {
   "cell_type": "code",
   "execution_count": 3,
   "metadata": {},
   "outputs": [
    {
     "data": {
      "text/html": [
       "<div>\n",
       "<style scoped>\n",
       "    .dataframe tbody tr th:only-of-type {\n",
       "        vertical-align: middle;\n",
       "    }\n",
       "\n",
       "    .dataframe tbody tr th {\n",
       "        vertical-align: top;\n",
       "    }\n",
       "\n",
       "    .dataframe thead th {\n",
       "        text-align: right;\n",
       "    }\n",
       "</style>\n",
       "<table border=\"1\" class=\"dataframe\">\n",
       "  <thead>\n",
       "    <tr style=\"text-align: right;\">\n",
       "      <th></th>\n",
       "      <th>State</th>\n",
       "      <th>Number of Solar Plants</th>\n",
       "      <th>Installed Capacity (MW)</th>\n",
       "      <th>Average MW Per Plant</th>\n",
       "      <th>Generation (GWh)</th>\n",
       "    </tr>\n",
       "  </thead>\n",
       "  <tbody>\n",
       "    <tr>\n",
       "      <th>0</th>\n",
       "      <td>California</td>\n",
       "      <td>289</td>\n",
       "      <td>4395</td>\n",
       "      <td>15.3</td>\n",
       "      <td>10826</td>\n",
       "    </tr>\n",
       "    <tr>\n",
       "      <th>1</th>\n",
       "      <td>Arizona</td>\n",
       "      <td>48</td>\n",
       "      <td>1078</td>\n",
       "      <td>22.5</td>\n",
       "      <td>2550</td>\n",
       "    </tr>\n",
       "    <tr>\n",
       "      <th>2</th>\n",
       "      <td>Nevada</td>\n",
       "      <td>11</td>\n",
       "      <td>238</td>\n",
       "      <td>21.6</td>\n",
       "      <td>557</td>\n",
       "    </tr>\n",
       "    <tr>\n",
       "      <th>3</th>\n",
       "      <td>New Mexico</td>\n",
       "      <td>33</td>\n",
       "      <td>261</td>\n",
       "      <td>7.9</td>\n",
       "      <td>590</td>\n",
       "    </tr>\n",
       "    <tr>\n",
       "      <th>4</th>\n",
       "      <td>Colorado</td>\n",
       "      <td>20</td>\n",
       "      <td>118</td>\n",
       "      <td>5.9</td>\n",
       "      <td>235</td>\n",
       "    </tr>\n",
       "  </tbody>\n",
       "</table>\n",
       "</div>"
      ],
      "text/plain": [
       "        State  Number of Solar Plants  Installed Capacity (MW)  \\\n",
       "0  California                     289                     4395   \n",
       "1     Arizona                      48                     1078   \n",
       "2      Nevada                      11                      238   \n",
       "3  New Mexico                      33                      261   \n",
       "4    Colorado                      20                      118   \n",
       "\n",
       "   Average MW Per Plant  Generation (GWh)  \n",
       "0                  15.3             10826  \n",
       "1                  22.5              2550  \n",
       "2                  21.6               557  \n",
       "3                   7.9               590  \n",
       "4                   5.9               235  "
      ]
     },
     "execution_count": 3,
     "metadata": {},
     "output_type": "execute_result"
    }
   ],
   "source": [
    "df = pd.read_csv('https://raw.githubusercontent.com/plotly/datasets/master/solar.csv')\n",
    "#df_temp = df.to_dict('records')\n",
    "df.head()"
   ]
  },
  {
   "cell_type": "code",
   "execution_count": 4,
   "metadata": {},
   "outputs": [],
   "source": [
    "app.layout = html.Div([\n",
    "    html.H4('Gapminder DataTable'),\n",
    "    dt.DataTable(\n",
    "        rows=df.to_dict('records'),\n",
    "\n",
    "        # optional - sets the order of columns\n",
    "        columns=sorted(df.columns),\n",
    "\n",
    "        row_selectable=True,\n",
    "        filterable=True,\n",
    "        sortable=True,\n",
    "        selected_row_indices=[],\n",
    "        id='datatable-gapminder'\n",
    "    ),\n",
    "    html.Div(id='selected-indexes'),\n",
    "    dcc.Graph(\n",
    "        id='graph-gapminder'\n",
    "    ),\n",
    "], className=\"container\")"
   ]
  },
  {
   "cell_type": "code",
   "execution_count": null,
   "metadata": {},
   "outputs": [
    {
     "name": "stderr",
     "output_type": "stream",
     "text": [
      " * Running on http://0.0.0.0:8887/ (Press CTRL+C to quit)\n",
      "127.0.0.1 - - [24/Mar/2022 07:42:29] \"\u001b[37mGET / HTTP/1.1\u001b[0m\" 200 -\n",
      "127.0.0.1 - - [24/Mar/2022 07:42:29] \"\u001b[37mGET /_dash-component-suites/dash_table_experiments/dash_table_experiments.css?v=0.6.0 HTTP/1.1\u001b[0m\" 200 -\n",
      "127.0.0.1 - - [24/Mar/2022 07:42:29] \"\u001b[37mGET /_dash-component-suites/dash_core_components/rc-slider@6.1.2.css?v=0.21.1 HTTP/1.1\u001b[0m\" 200 -\n",
      "127.0.0.1 - - [24/Mar/2022 07:42:29] \"\u001b[37mGET /_dash-component-suites/dash_core_components/react-virtualized@9.9.0.css?v=0.21.1 HTTP/1.1\u001b[0m\" 200 -\n",
      "127.0.0.1 - - [24/Mar/2022 07:42:29] \"\u001b[37mGET /_dash-component-suites/dash_core_components/react-select@1.0.0-rc.3.min.css?v=0.21.1 HTTP/1.1\u001b[0m\" 200 -\n",
      "127.0.0.1 - - [24/Mar/2022 07:42:29] \"\u001b[37mGET /_dash-component-suites/dash_core_components/react-virtualized-select@3.1.0.css?v=0.21.1 HTTP/1.1\u001b[0m\" 200 -\n",
      "127.0.0.1 - - [24/Mar/2022 07:42:29] \"\u001b[37mGET /_dash-component-suites/dash_renderer/react-dom@15.4.2.min.js?v=0.12.1 HTTP/1.1\u001b[0m\" 200 -\n",
      "127.0.0.1 - - [24/Mar/2022 07:42:29] \"\u001b[37mGET /_dash-component-suites/dash_html_components/bundle.js?v=0.9.0 HTTP/1.1\u001b[0m\" 200 -\n",
      "127.0.0.1 - - [24/Mar/2022 07:42:29] \"\u001b[37mGET /_dash-component-suites/dash_table_experiments/bundle.js?v=0.6.0 HTTP/1.1\u001b[0m\" 200 -\n",
      "127.0.0.1 - - [24/Mar/2022 07:42:29] \"\u001b[37mGET /_dash-component-suites/dash_core_components/plotly-1.35.2.min.js?v=0.21.1 HTTP/1.1\u001b[0m\" 200 -\n",
      "127.0.0.1 - - [24/Mar/2022 07:42:29] \"\u001b[37mGET /_dash-component-suites/dash_renderer/react@15.4.2.min.js?v=0.12.1 HTTP/1.1\u001b[0m\" 200 -\n",
      "127.0.0.1 - - [24/Mar/2022 07:42:29] \"\u001b[37mGET /_dash-component-suites/dash_core_components/bundle.js?v=0.21.1 HTTP/1.1\u001b[0m\" 200 -\n",
      "127.0.0.1 - - [24/Mar/2022 07:42:29] \"\u001b[37mGET /_dash-component-suites/dash_core_components/react-dates@12.3.0.css?v=0.21.1 HTTP/1.1\u001b[0m\" 200 -\n",
      "127.0.0.1 - - [24/Mar/2022 07:42:29] \"\u001b[37mGET /_dash-component-suites/dash_renderer/bundle.js?v=0.12.1 HTTP/1.1\u001b[0m\" 200 -\n",
      "127.0.0.1 - - [24/Mar/2022 07:42:30] \"\u001b[37mGET /_dash-dependencies HTTP/1.1\u001b[0m\" 200 -\n",
      "127.0.0.1 - - [24/Mar/2022 07:42:30] \"\u001b[37mGET /_dash-layout HTTP/1.1\u001b[0m\" 200 -\n"
     ]
    }
   ],
   "source": [
    "if __name__ == '__main__':\n",
    "    app.run_server(host='0.0.0.0',port=int(portID)) # Domino hosts all apps at 0.0.0.0:8888"
   ]
  },
  {
   "cell_type": "code",
   "execution_count": null,
   "metadata": {},
   "outputs": [],
   "source": []
  }
 ],
 "metadata": {
  "kernelspec": {
   "display_name": "Python 3",
   "language": "python",
   "name": "python3"
  },
  "language_info": {
   "codemirror_mode": {
    "name": "ipython",
    "version": 3
   },
   "file_extension": ".py",
   "mimetype": "text/x-python",
   "name": "python",
   "nbconvert_exporter": "python",
   "pygments_lexer": "ipython3",
   "version": "3.6.10"
  }
 },
 "nbformat": 4,
 "nbformat_minor": 4
}
